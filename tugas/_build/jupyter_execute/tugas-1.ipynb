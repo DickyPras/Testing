{
 "cells": [
  {
   "cell_type": "markdown",
   "metadata": {},
   "source": [
    "# Tugas 1\n",
    "\n",
    "## Video Tutorial pembuatan Web Statis dengan template Jupyter-Book\n",
    "\n",
    "[Klik link berikut](https://youtu.be/oRqykMAQrQA?si=nPsNdIRbdbI6LGWi)"
   ]
  }
 ],
 "metadata": {
  "language_info": {
   "codemirror_mode": {
    "name": "ipython",
    "version": 3
   },
   "file_extension": ".py",
   "mimetype": "text/x-python",
   "name": "python",
   "nbconvert_exporter": "python",
   "pygments_lexer": "ipython3",
   "version": "3.10.13"
  }
 },
 "nbformat": 4,
 "nbformat_minor": 2
}
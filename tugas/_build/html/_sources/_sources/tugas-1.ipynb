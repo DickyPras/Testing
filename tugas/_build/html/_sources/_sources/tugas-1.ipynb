{
 "cells": [
  {
   "cell_type": "markdown",
   "metadata": {},
   "source": [
    "# Tugas 1\n",
    "\n",
    "## Video Tutorial pembuatan Web Statis dengan template Jupyter-Book\n",
    "\n",
    "[Klik link berikut](https://youtu.be/oRqykMAQrQA?si=nPsNdIRbdbI6LGWi)"
   ]
  }
 ],
 "metadata": {
  "language_info": {
   "name": "python"
  }
 },
 "nbformat": 4,
 "nbformat_minor": 2
}

{
 "cells": [
  {
   "cell_type": "markdown",
   "metadata": {},
   "source": [
    "# MATRIKS\n",
    "\n",
    "Matriks adalah suatu susunan bilangan real atau bilangan kompleks (atau elemen-elemen) yang disusun dalam baris dan kolom sehingga membentuk jajaran persegi panjang.\n",
    "\n",
    "### Cara memberi nama suatu matriks\n",
    "\n",
    "Suatu matriks diberi nama dengan menggunakan huruf kapital seperti A, B, C, dan seterusnya, sedangkan anggotanya dinyatakan dengan huruf kecil. Anggota dari suatu matriks dapat pula dinyatakan dengan huruf kecil yang berindeks ganda (), dengan indeks pertama menyatakan di baris mana anggota itu terletak dan indeks kedua menyatakan di kolom mana anggota itu terletak. Sebagai contoh  artinya anggota tersebut terletak pada baris kesatu dan kolom kedua. Begitu juga  artinya anggota tersebut terletak pada baris kedua dan kolom keempat.\n",
    "\n",
    "### Ordo/Ukuran/Order dari suatu matriks\n",
    "\n",
    "Ordo/ukuran dari suatu matriks ditentukan oleh banyaknya baris dan kolom yang dimiliki oleh matriks tersebut. Contoh: Matriks A pada contoh di atas meniliki dua buah baris dan dua buah kolom, sehingga kita katakana matriks A berordo 2 x 2. Jika sebuah matriks memiliki i baris dan kolom, maka matriks tersebut berordo i x j, dapat dituliskan Ai.j"
   ]
  },
  {
   "cell_type": "code",
   "execution_count": 30,
   "metadata": {},
   "outputs": [],
   "source": [
    "# import library numpy\n",
    "\n",
    "import numpy as np"
   ]
  },
  {
   "cell_type": "markdown",
   "metadata": {},
   "source": [
    "Gunakan np.array([matriks]) untuk membuat matriks dengan nilai yang dpat diisi sendiri"
   ]
  },
  {
   "cell_type": "code",
   "execution_count": 32,
   "metadata": {},
   "outputs": [
    {
     "name": "stdout",
     "output_type": "stream",
     "text": [
      "A\n",
      "[[1 3]\n",
      " [2 1]] \n",
      "\n",
      "B\n",
      "[[ 3  0  4]\n",
      " [-1 -2  1]] \n",
      "\n",
      "C\n",
      "[[-2  1]\n",
      " [ 4  1]] \n",
      "\n",
      "D\n",
      "[[2]\n",
      " [6]] \n",
      "\n"
     ]
    }
   ],
   "source": [
    "import numpy as np \n",
    "A = np.array([[1,3],[2,1]])\n",
    "B = np.array([[3,0,4],[-1,-2,1]])\n",
    "C = np.array([[-2,1],[4,1]])\n",
    "D = np.array([[2],[6]])\n",
    "\n",
    "print(\"A\")\n",
    "print(A,\"\\n\")\n",
    "\n",
    "print(\"B\")\n",
    "print(B,\"\\n\")\n",
    "\n",
    "print(\"C\")\n",
    "print(C,\"\\n\")\n",
    "\n",
    "print(\"D\")\n",
    "print(D,\"\\n\")\n"
   ]
  },
  {
   "cell_type": "markdown",
   "metadata": {},
   "source": [
    "Gunakan np.random.randint(n,seze(=i,j) untuk membuat matriks dengan nilai int acak 0-n dan memeiliki baris i dan kolom j"
   ]
  },
  {
   "cell_type": "code",
   "execution_count": 35,
   "metadata": {},
   "outputs": [
    {
     "name": "stdout",
     "output_type": "stream",
     "text": [
      "F\n",
      "[[9 7]\n",
      " [6 7]] \n",
      "\n",
      "E\n",
      "[[3 3]\n",
      " [1 7]\n",
      " [8 8]] \n",
      "\n",
      "G\n",
      "[[4 8 1]\n",
      " [2 4 5]\n",
      " [6 2 9]] \n",
      "\n"
     ]
    }
   ],
   "source": [
    "E = np.random.randint(10,size=(2,2))\n",
    "F = np.random.randint(10,size=(3,2))\n",
    "G = np.random.randint(10,size=(3,3))\n",
    "print(\"F\")\n",
    "print(E,\"\\n\")\n",
    "\n",
    "print(\"E\")\n",
    "print(F,\"\\n\")\n",
    "\n",
    "print(\"G\")\n",
    "print(G,\"\\n\")"
   ]
  },
  {
   "cell_type": "markdown",
   "metadata": {},
   "source": [
    "Untuk mengecek panjang baris dan kolom dapat menggunakan np.shape atau len"
   ]
  },
  {
   "cell_type": "code",
   "execution_count": 36,
   "metadata": {},
   "outputs": [
    {
     "name": "stdout",
     "output_type": "stream",
     "text": [
      "baris dan kolom matriks A\n",
      " (2, 2)\n",
      "baris dan kolom matriks B\n",
      " 2 3\n"
     ]
    }
   ],
   "source": [
    "print(\"baris dan kolom matriks A\\n\",np.shape(A))\n",
    "print(\"baris dan kolom matriks B\\n\", len(B),len(B[0]))"
   ]
  },
  {
   "cell_type": "markdown",
   "metadata": {},
   "source": [
    "## Operasi-operasi matriks\n",
    "\n",
    "matriks yang ukurannya sama dapat dijumlahkan.Hasilnya adalah semua elemen yang bersesuaian ditambhkan dan ditulis dalam bentuk.\n",
    "\n",
    "\n",
    "            (A+C) = a+c\n",
    "        A+0=A dimana 0 matriks nol\n",
    "            A+B=B+A\n",
    "          (A+B)+C=A+(B+C)"
   ]
  },
  {
   "cell_type": "markdown",
   "metadata": {},
   "source": [
    "# Operasi Matriks\n",
    "\n",
    "## Penjumlahan \n",
    "\n",
    "Operasi matriks yang pertama kita bahas adalah penjumlahan matriks. Operasi matriks adalah penjumlahan 2 matriks yang letak komponennya sama. Sebenarnya, operasi matriks tidak jauh beda dengan operasi penjumlahan pada umumnya, tapi ada syarat matriks bisa dijumlahkan.\n",
    "\n",
    "syarat matriks agar bisa dijumlahkan adalah dua matriks harus memiliki ordo yang sama. Contohnya seperti matriks di bawah ini. \n"
   ]
  },
  {
   "cell_type": "code",
   "execution_count": 8,
   "metadata": {},
   "outputs": [
    {
     "name": "stdout",
     "output_type": "stream",
     "text": [
      "A\n",
      "[[1 3]\n",
      " [2 1]] \n",
      "\n",
      "C\n",
      "[[-2  1]\n",
      " [ 4  1]] \n",
      "\n",
      "hasil matriks A+C =\n",
      "[[-1  4]\n",
      " [ 6  2]]\n"
     ]
    }
   ],
   "source": [
    "print(\"A\")\n",
    "print(A,\"\\n\")\n",
    "\n",
    "print(\"C\")\n",
    "print(C,\"\\n\")\n",
    "\n",
    "ac = A+C\n",
    "print(\"hasil matriks A+C =\")\n",
    "print(ac,)"
   ]
  },
  {
   "cell_type": "markdown",
   "metadata": {},
   "source": [
    "## Pengurangan \n",
    "\n",
    "Konsep pengurangan pada operasi matriks sama seperti cara pengerjaan penjumlahan, jadi tinggal mengurangkan masing-masing baris sesuai dengan urutannya. \n",
    "Syarat pengurangan matriks pun sama dengan penjumlahan, yaitu kedua matriks harus memiliki ordo yang sama sehingga bisa dioperasikan.\n",
    "\n",
    "Dibawah ini merupakan contoh operasi pengurangan matriks : "
   ]
  },
  {
   "cell_type": "code",
   "execution_count": 9,
   "metadata": {},
   "outputs": [
    {
     "name": "stdout",
     "output_type": "stream",
     "text": [
      "A\n",
      "[[1 3]\n",
      " [2 1]] \n",
      "\n",
      "C\n",
      "[[-2  1]\n",
      " [ 4  1]] \n",
      "\n",
      "hasil matriks A-C =\n",
      "[[ 3  2]\n",
      " [-2  0]]\n"
     ]
    }
   ],
   "source": [
    "print(\"A\")\n",
    "print(A,\"\\n\")\n",
    "\n",
    "print(\"C\")\n",
    "print(C,\"\\n\")\n",
    "\n",
    "ac = A-C\n",
    "print(\"hasil matriks A-C =\")\n",
    "print(ac,)"
   ]
  },
  {
   "cell_type": "markdown",
   "metadata": {},
   "source": [
    "## Perkalian \n",
    "\n",
    "### Operasi Perkalian Matriks dengan Bilangan Real (Skalar)\n",
    "\n",
    "Perkalian matriks dengan bilangan real (skalar) tidak memiliki persyaratan. Jadi, semua matriks dengan ordo apapun bisa dikalikan dengan bilangan real (skalar).\n",
    "\n",
    "Dibawah ini merupakan contoh operasi perkalian matriks dengan bilangan saklar :\n",
    "\n"
   ]
  },
  {
   "cell_type": "code",
   "execution_count": 11,
   "metadata": {},
   "outputs": [
    {
     "name": "stdout",
     "output_type": "stream",
     "text": [
      "matriks A\n",
      "[[1 3]\n",
      " [2 1]] \n",
      "\n",
      "saklar J\n",
      "4 \n",
      "\n",
      "hasil perkalian matriks A dengan saklar J\n",
      "[[ 4 12]\n",
      " [ 8  4]] \n",
      "\n"
     ]
    }
   ],
   "source": [
    "# perkalian dengan saklar \n",
    "\n",
    "# J adalah saklar dan A adalah matriks\n",
    "\n",
    "J = 4\n",
    "JA = J * A\n",
    "print(\"matriks A\")\n",
    "print(A,\"\\n\")\n",
    "print(\"saklar J\")\n",
    "print(J,\"\\n\")\n",
    "print(\"hasil perkalian matriks A dengan saklar J\")\n",
    "print(JA,\"\\n\")\n"
   ]
  },
  {
   "cell_type": "markdown",
   "metadata": {},
   "source": [
    "### Perkalian Dua Matriks\n",
    "\n",
    "1) Sifat tidak komutatif\n",
    "\n",
    "AB tidak BA\n",
    "\n",
    "2) Pada sifat distributif ini berkaitan dengan operasi penjumlahan matriks. Berikut contohnya:\n",
    "\n",
    "X (Y + Z) = XY + XZ\n",
    "\n",
    "(Y + Z) X = YX + ZX \n"
   ]
  },
  {
   "cell_type": "markdown",
   "metadata": {},
   "source": [
    "# Tugas perkalian Dua Matriks \n",
    "\n",
    "### Perkalian dua Matriks menggunakan perulangan "
   ]
  },
  {
   "cell_type": "code",
   "execution_count": 26,
   "metadata": {},
   "outputs": [
    {
     "name": "stdout",
     "output_type": "stream",
     "text": [
      "Matriks A [[2, 4], [2, 5], [2, 3]] \n",
      "\n",
      "MAtriks B [[3, 5, 1], [1, 6, 3]] \n",
      "\n",
      "panjang baris dan kolom\n",
      "Matriks A\n",
      "3 2 \n",
      "\n",
      "Matriks B\n",
      "2 3 \n",
      "\n",
      "hasil dari perkalian matrix :\n",
      "\n",
      "[[10, 34, 14], [11, 40, 17], [9, 28, 11]] \n",
      "\n"
     ]
    }
   ],
   "source": [
    "listA = [[2,4],[2,5],[2,3]]\n",
    "\n",
    "listB = [[3,5,1],[1,6,3]]\n",
    "  \n",
    "print(\"Matriks A\",listA,\"\\n\")\n",
    "print(\"MAtriks B\",listB,\"\\n\")\n",
    "\n",
    "print(\"panjang baris dan kolom\")\n",
    "print(\"Matriks A\")\n",
    "print(len(listA),len(listA[0]),\"\\n\")\n",
    "print(\"Matriks B\")\n",
    "print(len(listB),len(listB[0]),\"\\n\")\n",
    "\n",
    "# n adalah panjang baris matrix listA\n",
    "n = len(listA)\n",
    "\n",
    "# adalah panjang kolom matrix listA dan panjang baris matrix listB\n",
    "m = len(listA[0])\n",
    "\n",
    "# p adalah panjang baris matrix listB\n",
    "p = len(listB[0])\n",
    "\n",
    "hasil = []\n",
    "# perulangan terjadi sebanyak panjang baris listA\n",
    "for i in range(0,n):\n",
    "  hasil1 = []\n",
    "  # perulangan terjadi sebanyak panjang baris listB\n",
    "  for j in range(0,p):\n",
    "    jumlah = 0\n",
    "    for k in range(0,m):\n",
    "      jumlah += listA[i][k] * listB[k][j]\n",
    "    hasil1.append(jumlah)\n",
    "  hasil.append(hasil1)\n",
    "print(\"hasil dari perkalian matrix :\" \"\\n\")\n",
    "print(hasil,\"\\n\")"
   ]
  },
  {
   "cell_type": "markdown",
   "metadata": {},
   "source": [
    "### Perkalian dua matriks dengan library numpy"
   ]
  },
  {
   "cell_type": "code",
   "execution_count": 27,
   "metadata": {},
   "outputs": [
    {
     "name": "stdout",
     "output_type": "stream",
     "text": [
      "[[2 4]\n",
      " [2 5]\n",
      " [2 3]] \n",
      "\n",
      "[[2 5 1]\n",
      " [1 6 3]] \n",
      "\n",
      "[[ 8 34 14]\n",
      " [ 9 40 17]\n",
      " [ 7 28 11]] \n",
      "\n",
      "[[ 8 34 14]\n",
      " [ 9 40 17]\n",
      " [ 7 28 11]] \n",
      "\n"
     ]
    }
   ],
   "source": [
    "MatriksA = np.array(([2,4],[2,5],[2,3]))\n",
    "MatriksB = np.array(([2,5,1],[1,6,3]))\n",
    "\n",
    "print(MatriksA,\"\\n\")\n",
    "print(MatriksB,\"\\n\")\n",
    "\n",
    "dot1 = np.dot(MatriksA,MatriksB)\n",
    "dot2 = MatriksA.dot(MatriksB)\n",
    "\n",
    "print(dot1,\"\\n\")\n",
    "print(dot2,\"\\n\")"
   ]
  }
 ],
 "metadata": {
  "kernelspec": {
   "display_name": "Python 3",
   "language": "python",
   "name": "python3"
  },
  "language_info": {
   "codemirror_mode": {
    "name": "ipython",
    "version": 3
   },
   "file_extension": ".py",
   "mimetype": "text/x-python",
   "name": "python",
   "nbconvert_exporter": "python",
   "pygments_lexer": "ipython3",
   "version": "3.10.13"
  }
 },
 "nbformat": 4,
 "nbformat_minor": 2
}
